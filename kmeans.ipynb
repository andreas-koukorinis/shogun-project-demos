{
 "cells": [
  {
   "cell_type": "markdown",
   "metadata": {},
   "source": [
    "Ting Pan, github ID: [tingpan](https://github.com/tingpan)"
   ]
  },
  {
   "cell_type": "markdown",
   "metadata": {},
   "source": [
    "# Applying K-means Algorithms on NBA Player Clustering"
   ]
  },
  {
   "cell_type": "markdown",
   "metadata": {},
   "source": [
    "In the previous [project](http://dota666.com/basketball/), we just did a very simple statistics and visualization, which is not insightful and interesting. I think we could apply some unsupervised clustering (such as K-Means) with Shogun API on the dataset to classify the player into different types. \n",
    "\n",
    "This notebook shows clustering NBA Players into different types with K-means in Shogun. Since I do not know the optimal value of k, I will use K-means and Elbow Method to find out the most suitable value for k."
   ]
  },
  {
   "cell_type": "markdown",
   "metadata": {},
   "source": [
    "The first step is loading the dataset. The file `play_freq.data` contains play-type stats of NBA Season 2015-16 from [stats.nba.com](http://stats.nba.com/). This CSV file has 11 columns in total. The first column is the players' name and following ten columns are the frequency of ten play types (Transition, Isolation, Pick & Roll, Pick & Roll: Roll Man, Post-Up, Spot-Up, Hand-Off, Cut, Off Screen and Rebound).  There are nearly 400 players data in this file. The loaded data are the features for training."
   ]
  },
  {
   "cell_type": "code",
   "execution_count": 2,
   "metadata": {},
   "outputs": [],
   "source": [
    "from numpy import array\n",
    "\n",
    "def load_data():\n",
    "    f = open('./play_freq.data')\n",
    "    features = []\n",
    "    names = []\n",
    "    for line in f:\n",
    "        words = line.rstrip().split(',')\n",
    "        # Store player names\n",
    "        names.append(words[0])\n",
    "        # Store features of each player\n",
    "        features.append([float(i) for i in words[1:]])\n",
    "\n",
    "    f.close()\n",
    "\n",
    "    return (array(features).T, names)\n",
    "\n",
    "data, names = load_data()"
   ]
  },
  {
   "cell_type": "markdown",
   "metadata": {},
   "source": [
    "Now, Let's define a method for K-means cluster with Shogun Python API. "
   ]
  },
  {
   "cell_type": "code",
   "execution_count": 3,
   "metadata": {},
   "outputs": [],
   "source": [
    "from modshogun import *\n",
    "\n",
    "def train_kmeans(k, data):\n",
    "    train_features = RealFeatures(data)\n",
    "    \n",
    "    # calculate euclidean distance of features\n",
    "    distance = EuclideanDistance(train_features, train_features)\n",
    "\n",
    "    # initialize KMeans object\n",
    "    kmeans = KMeans(k, distance, True)\n",
    "\n",
    "    # training kmeans\n",
    "    kmeans.train(train_features)\n",
    "\n",
    "    # labels for data points\n",
    "    result = kmeans.apply()\n",
    "    centers = kmeans.get_cluster_centers()\n",
    "    radiuses = kmeans.get_radiuses()\n",
    "    \n",
    "    return result, centers, radiuses"
   ]
  },
  {
   "cell_type": "markdown",
   "metadata": {},
   "source": [
    "Now I can build a model using the dataset with a specified value for number of clusters, which is k."
   ]
  },
  {
   "cell_type": "code",
   "execution_count": 4,
   "metadata": {},
   "outputs": [],
   "source": [
    "# Specifying the number of clusters(k)\n",
    "# However, the actual amount of types is unknown\n",
    "\n",
    "k = 8\n",
    "result, centers, radiuses = train_kmeans(k, data)"
   ]
  },
  {
   "cell_type": "markdown",
   "metadata": {},
   "source": [
    "Since I don't know the optimal value of k, I will use Elbow Method to find out it. I will run K-means clustering on the dataset with an increasing k. For each k, I will calculate the loss. The best k would be the k with a small loss, and the trend of loss decreasing is diminishing.\n",
    "\n",
    "I will run K-means with a range of k and calculate the sum of radiuses and for each k. To avoid the local minimum, I will train the dataset 10 times and get the average cost. (Since this is only a demo, I only train 10 times to increase the speed)"
   ]
  },
  {
   "cell_type": "code",
   "execution_count": 8,
   "metadata": {},
   "outputs": [],
   "source": [
    "import numpy as np\n",
    "ys = []\n",
    "xs = []\n",
    "player_count = len(data[0])\n",
    "iter_count = 50\n",
    "for k in range(5, 30):\n",
    "        xs.append(k)\n",
    "        _ys = []\n",
    "        for i in range(0, iter_count):\n",
    "            result, centers, radiuses = train_kmeans(k, data)\n",
    "            for player_i in range(0, player_count):\n",
    "                cluster_i = int(result[player_i])\n",
    "                center = array([x[cluster_i] for x in centers])\n",
    "                player = array([y[player_i] for y in data])\n",
    "                _ys.append(np.sum((center - player)**2))\n",
    "        ys.append(sum(_ys)/iter_count/player_count)"
   ]
  },
  {
   "cell_type": "markdown",
   "metadata": {},
   "source": [
    "Then, I will plot a line chart of the average cost for each k. Can see that the line chart looks like an arm, and the \"elbow\" of the arm is the value of the best k."
   ]
  },
  {
   "cell_type": "code",
   "execution_count": 11,
   "metadata": {},
   "outputs": [
    {
     "data": {
      "image/png": "[encoded data removed]"
     },
     "output_type": "display_data",
     "metadata": {}
    }
   ],
   "source": [
    "import matplotlib.pyplot as plt\n",
    "%matplotlib inline\n",
    "\n",
    "plt.plot(xs,ys)\n",
    "plt.xlabel('Number of clusters (k)')\n",
    "plt.ylabel('Sum of squared errors')\n",
    "plt.show()"
   ]
  },
  {
   "cell_type": "markdown",
   "metadata": {},
   "source": [
    "As shown in figure, the best k is around 13. As this is a real world dataset, so we could decide if this is a reasonable k by analysing real world cases.\n",
    "\n",
    "As mentioned in [the explanation of play type data](https://github.com/tingpan/shogun-data#play-type-statsmost-important-stats-in-this-project), play type data shows when a player is on court, what type of action he is doing. Players in same cluster should have similar frequence of each play type.\n",
    "\n",
    "In order to show whether this is the right k for clustering, I will visualise some clusters with bar chart and interpret why players should be in that cluster.\n",
    "\n",
    "Here I will use bar chart to visualise one of the cluster:"
   ]
  },
  {
   "cell_type": "code",
   "execution_count": 16,
   "metadata": {},
   "outputs": [
    {
     "data": {
      "image/png": "[encoded data removed]"
     },
     "output_type": "display_data",
     "metadata": {}
    }
   ],
   "source": [
    "def draw_values(k, centers, index):\n",
    "    ind = np.arange(10)\n",
    "    width = 0.5\n",
    "    headers = ['Transition', 'Isolation', 'PRBallHandler', 'PRRollman', 'Postup', 'Spotup', 'Handoff', 'Cut', 'OffScreen', 'OffRebound']\n",
    "    fig, ax = plt.subplots()\n",
    "    rects = plt.bar(ind, [values[index] for values in centers], width, color=[(min(x/10.0, 1), x/20.0, 0.55) for x in range(1,21,2)])\n",
    "    ax.set_ylabel('Freq Rating')\n",
    "    ax.set_title('Player Cluster')\n",
    "    ax.set_xticks(ind)\n",
    "    ax.legend(rects, headers)\n",
    "    plt.show()\n",
    "    \n",
    "k = 13\n",
    "result, centers, radiuses = train_kmeans(k, data)\n",
    "\n",
    "draw_values(k, centers, 0)"
   ]
  },
  {
   "cell_type": "markdown",
   "metadata": {},
   "source": [
    "Players in this type would have these characteristics:\n",
    "\n",
    "1. Always catch-and-shoot/drive.\n",
    "2. Catch-and-shoot/drive always comes after being Roll Man of Pick & Roll.\n",
    "3. Always move quickly to catch a pass while moving toward and finish before the defense sets(after getting a rebound or possession changes).\n",
    "\n",
    "Therefore, we would figure out players belongs to this type would be big man with ability to move fast and score both inside and outside. Then we get names of them:"
   ]
  },
  {
   "cell_type": "code",
   "execution_count": 17,
   "metadata": {},
   "outputs": [
    {
     "name": "stdout",
     "output_type": "stream",
     "text": [
      "['Chris Bosh', 'Kristaps Porzingis', 'Serge Ibaka', 'Luol Deng', 'Mirza Teletovic', 'Nikola Mirotic', 'Marvin Williams', 'Ersan Ilyasova', 'Kelly Olynyk', 'Luis Scola', 'Terrence Jones', 'Meyers Leonard', 'Darrell Arthur', 'Jon Leuer', 'Jason Smith', 'Frank Kaminsky', 'Marreese Speights', 'Patrick Patterson', 'Andrea Bargnani', 'Paul Pierce', 'Kris Humphries', 'Trey Lyles', 'Spencer Hawes', 'Charlie Villanueva', 'Mike Scott', 'Channing Frye', 'Larry Nance Jr.', 'Chris McCullough', 'Ryan Kelly', 'Nemanja Bjelica', 'Jonas Jerebko', 'Quincy Acy', 'Noah Vonleh', 'Josh McRoberts', 'Drew Gooden', \"Johnny O'Bryant\", 'Kevin Garnett', 'Luc Mbah a Moute', 'Jason Thompson']\n"
     ]
    }
   ],
   "source": [
    "def players(names, result, index):\n",
    "    players = []\n",
    "    for i, name in enumerate(names):\n",
    "            if int(result[i]) == index:\n",
    "                players.append(name)\n",
    "    return players\n",
    "            \n",
    "print players(names, result, 0)"
   ]
  },
  {
   "cell_type": "markdown",
   "metadata": {},
   "source": [
    "Then we found that most of them match the characteristics we listed before. For example, Chris Bosh and Kristaps Porzingis are all typical big man that could score both inside and outside. \n",
    "\n",
    "I will test anthoer cluster to validate the result:"
   ]
  },
  {
   "cell_type": "code",
   "execution_count": 18,
   "metadata": {},
   "outputs": [
    {
     "data": {
      "image/png": "[encoded data removed]"
     },
     "output_type": "display_data",
     "metadata": {}
    },
    {
     "name": "stdout",
     "output_type": "stream",
     "text": [
      "['James Harden', 'Kevin Durant', 'LeBron James', 'Carmelo Anthony', 'Kobe Bryant', 'Jamal Crawford']\n"
     ]
    }
   ],
   "source": [
    "draw_values(k, centers, 2)\n",
    "print players(names, result, 2)"
   ]
  },
  {
   "cell_type": "markdown",
   "metadata": {},
   "source": [
    "These players are the key player of their team, which means they always handle the ball. They also have the most percent of isolation. \n",
    "\n",
    "Therefore I have clustered players into 13 different types by their frequency of performing different play types on court. The next step of the project would be using this clustering result to predict game results."
   ]
  }
 ],
 "metadata": {
  "kernelspec": {
   "display_name": "Python 2",
   "language": "python",
   "name": "python2"
  },
  "language_info": {
   "codemirror_mode": {
    "name": "ipython",
    "version": 2.0
   },
   "file_extension": ".py",
   "mimetype": "text/x-python",
   "name": "python",
   "nbconvert_exporter": "python",
   "pygments_lexer": "ipython2",
   "version": "2.7.10"
  }
 },
 "nbformat": 4,
 "nbformat_minor": 0
}